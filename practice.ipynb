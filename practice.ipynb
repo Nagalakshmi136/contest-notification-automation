{
 "cells": [
  {
   "cell_type": "code",
   "execution_count": 3,
   "metadata": {},
   "outputs": [],
   "source": [
    "import requests \n",
    "from bs4 import BeautifulSoup\n",
    "# from utils import ipo_premium, gmp_today\n",
    "# from constants import IPO_PREMIUM_URL, GMP_TODAY_URL\n",
    "from selenium import webdriver\n",
    "from config import CHROME_PROFILE_PATH\n",
    "from selenium.webdriver.support.ui import WebDriverWait\n",
    "from selenium.webdriver.common.by import By\n",
    "from selenium.webdriver.common.keys import Keys\n",
    "from selenium.webdriver.support import expected_conditions as EC\n",
    "from selenium.webdriver.chrome.service import Service\n",
    "from webdriver_manager.chrome import ChromeDriverManager\n",
    "from datetime import datetime\n",
    "import time"
   ]
  },
  {
   "cell_type": "code",
   "execution_count": 7,
   "metadata": {},
   "outputs": [],
   "source": [
    "LEET_CODE = 'https://www.geeksforgeeks.org/events?itm_source=geeksforgeeks&itm_medium=main_header&itm_campaign=contests'\n",
    "# responsee = requests.get(LEET_CODE)\n",
    "# soup = BeautifulSoup(response.content,'lxml')\n",
    "# div = soup.find_all('div',class_=\"_dataTable__container_ioa8k_412\")"
   ]
  },
  {
   "cell_type": "code",
   "execution_count": 4,
   "metadata": {},
   "outputs": [],
   "source": [
    "import calendar\n",
    "today = datetime.now()"
   ]
  },
  {
   "cell_type": "code",
   "execution_count": 17,
   "metadata": {},
   "outputs": [
    {
     "name": "stderr",
     "output_type": "stream",
     "text": [
      "/bin/bash: /home/munikumar/miniconda3/lib/libtinfo.so.6: no version information available (required by /bin/bash)\n",
      "/bin/bash: /home/munikumar/miniconda3/lib/libtinfo.so.6: no version information available (required by /bin/bash)\n"
     ]
    }
   ],
   "source": [
    "options = webdriver.ChromeOptions()\n",
    "options.add_experimental_option(\"detach\", True)\n",
    "options.add_argument(CHROME_PROFILE_PATH)\n",
    "driver = webdriver.Chrome(service=Service(ChromeDriverManager().install()),options=options)\n",
    "driver.get(LEET_CODE)\n",
    "wait = WebDriverWait(driver,500)\n",
    "contest_paths = '//div[@id=\"eventsLanding_eachEventContainer__O5VyK\"]/a'\n",
    "contests = wait.until(EC.presence_of_all_elements_located((By.XPATH,contest_paths)))\n",
    "contest_details = []\n",
    "for i in range(min(5,len(contests))):\n",
    "    if 'Weekly' in contests[i].text:\n",
    "        contest = contests[i].text.split('IST')[0].replace('\\n',' ')\n",
    "        contest_date = contest.split(',')[0].split(' ')\n",
    "        if calendar.month_name[today.month] == contest_date[0] and today.day==int(contest_date[1]):\n",
    "            contest_details.append(contest)\n"
   ]
  },
  {
   "cell_type": "markdown",
   "metadata": {},
   "source": []
  },
  {
   "cell_type": "code",
   "execution_count": 18,
   "metadata": {},
   "outputs": [
    {
     "data": {
      "text/plain": [
       "['February 11, 2024 07:00 PM ',\n",
       " 'February 18, 2024 07:00 PM ',\n",
       " 'February 04, 2024 07:00 PM ']"
      ]
     },
     "execution_count": 18,
     "metadata": {},
     "output_type": "execute_result"
    }
   ],
   "source": [
    "contest_details"
   ]
  },
  {
   "cell_type": "code",
   "execution_count": 5,
   "metadata": {},
   "outputs": [],
   "source": [
    "from datetime import datetime"
   ]
  },
  {
   "cell_type": "code",
   "execution_count": 7,
   "metadata": {},
   "outputs": [
    {
     "data": {
      "text/plain": [
       "17"
      ]
     },
     "execution_count": 7,
     "metadata": {},
     "output_type": "execute_result"
    }
   ],
   "source": [
    "datetime.now().minute"
   ]
  },
  {
   "cell_type": "code",
   "execution_count": null,
   "metadata": {},
   "outputs": [],
   "source": []
  },
  {
   "cell_type": "code",
   "execution_count": null,
   "metadata": {},
   "outputs": [],
   "source": []
  }
 ],
 "metadata": {
  "kernelspec": {
   "display_name": "py_contest",
   "language": "python",
   "name": "python3"
  },
  "language_info": {
   "codemirror_mode": {
    "name": "ipython",
    "version": 3
   },
   "file_extension": ".py",
   "mimetype": "text/x-python",
   "name": "python",
   "nbconvert_exporter": "python",
   "pygments_lexer": "ipython3",
   "version": "3.11.0"
  },
  "orig_nbformat": 4
 },
 "nbformat": 4,
 "nbformat_minor": 2
}
